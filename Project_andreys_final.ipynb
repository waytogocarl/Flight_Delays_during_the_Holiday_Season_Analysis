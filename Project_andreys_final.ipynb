{
 "cells": [
  {
   "cell_type": "code",
   "execution_count": 1,
   "id": "d28a642f-09dd-4288-ac53-e1b7350c8c65",
   "metadata": {},
   "outputs": [],
   "source": [
    "# pip install basemap"
   ]
  },
  {
   "cell_type": "code",
   "execution_count": 2,
   "id": "fe31a1fc-ee84-4d4a-96b3-257a4c8d0667",
   "metadata": {},
   "outputs": [],
   "source": [
    "# Dependencies and Setup\n",
    "import matplotlib.pyplot as plt\n",
    "import pandas as pd\n",
    "import numpy as np\n",
    "import requests\n",
    "import time\n",
    "import json\n",
    "from scipy.stats import linregress\n",
    "import datetime\n",
    "import random\n",
    "from scipy import stats\n",
    "import seaborn as sns\n",
    "#=========================================\n",
    "import matplotlib as mpl\n",
    "import matplotlib.patches as patches\n",
    "from matplotlib.patches import ConnectionPatch\n",
    "from collections import OrderedDict\n",
    "from matplotlib.gridspec import GridSpec\n",
    "from mpl_toolkits.basemap import Basemap"
   ]
  },
  {
   "cell_type": "code",
   "execution_count": 3,
   "id": "7b1a2106-09e0-4711-83c5-3e09c9ff201b",
   "metadata": {},
   "outputs": [],
   "source": [
    "#Read .csv file for output\n",
    "aviation_data = pd.read_csv(\"./dataset/airline_data.csv\")\n",
    "#aviation_data.head()"
   ]
  },
  {
   "cell_type": "markdown",
   "id": "55b8c81d-73f7-4f5b-8057-932ff61c1436",
   "metadata": {},
   "source": [
    "### Get columns from ./dataset/airline_data.csv we are going to perfom calculations on"
   ]
  },
  {
   "cell_type": "code",
   "execution_count": 4,
   "id": "53d78e15-dfa7-4e2e-a1a4-e3357ab67769",
   "metadata": {},
   "outputs": [
    {
     "name": "stdout",
     "output_type": "stream",
     "text": [
      "11445\n",
      "Number of randomly selected flights: 200\n"
     ]
    }
   ],
   "source": [
    "aviation_data = pd.read_csv(\"./dataset/airline_data.csv\")\n",
    "aviation_data.head()\n",
    "flights = aviation_data.to_dict(orient='records')\n",
    "filtered_flights = []\n",
    "for flight in flights:\n",
    "    flight_date = str(flight[\"month\"])\n",
    "    if flight_date.startswith(\"11\") or flight_date.startswith(\"12\"):\n",
    "        filtered_flights.append(flight)\n",
    "print(len(filtered_flights))\n",
    "formatted_flights = []\n",
    "random_flights = random.sample(filtered_flights, min(200, len(filtered_flights)))\n",
    "print(f\"Number of randomly selected flights: {len(random_flights)}\")\n",
    "for flight in random_flights:\n",
    "    airline_name = flight[\"carrier_name\"]\n",
    "    arrival_airport = flight[\"airport\"]\n",
    "    airport_name = flight[\"airport_name\"]\n",
    "    month = flight[\"month\"]\n",
    "    year = flight[\"year\"]\n",
    "    airline_delay = flight[\"carrier_delay\"]\n",
    "    weather_delay = flight[\"weather_delay\"]\n",
    "    nas_delay = flight[\"nas_delay\"]\n",
    "    security_delay = flight[\"security_delay\"]\n",
    "    late_aircraft_delay = flight[\"late_aircraft_delay\"]\n",
    "    count_airline_delay = flight[\"carrier_ct\"]\n",
    "    count_weather_delay = flight[\"weather_ct\"]\n",
    "    count_nas_delay = flight[\"nas_ct\"]\n",
    "    count_security_delay = flight[\"security_ct\"]\n",
    "    count_late_aircraft_delay = flight[\"late_aircraft_ct\"]\n",
    "    # NAS is the National Aviation System\n",
    "    formatted_flights.append({\n",
    "        \"Year\": year,\n",
    "        \"Month\": month,\n",
    "        \"Airline Name\": airline_name,\n",
    "        \"Arrival Airport\": arrival_airport,\n",
    "        \"airport_name\": airport_name,\n",
    "        \"Delay due to Airline in Mins\": airline_delay,\n",
    "        \"Delay due to Weather in Mins\": weather_delay,\n",
    "        \"Delay due to NAS in Mins\": nas_delay,\n",
    "        \"Delay due to Security in Mins\": security_delay,\n",
    "        \"Delay due to Late Aircraft in Mins\": late_aircraft_delay,\n",
    "        \"# of Airline Delays\": count_airline_delay,\n",
    "        \"# of Weather Delays\": count_weather_delay,\n",
    "        \"# of NAS Delays\": count_nas_delay,\n",
    "        \"# of Security Delays\": count_security_delay,\n",
    "        \"# of Late Aircraft Delays\": count_late_aircraft_delay\n",
    "    })"
   ]
  },
  {
   "cell_type": "code",
   "execution_count": 5,
   "id": "5f232234-d020-485d-b689-4c47efbcfc03",
   "metadata": {},
   "outputs": [
    {
     "name": "stdout",
     "output_type": "stream",
     "text": [
      "['12/2023' '11/2023' '10/2023' '9/2023' '8/2023' '7/2023' '6/2023'\n",
      " '5/2023' '4/2023' '3/2023' '2/2023' '1/2023' '12/2022' '11/2022'\n",
      " '10/2022' '9/2022' '8/2022' '7/2022' '6/2022' '5/2022' '4/2022' '3/2022'\n",
      " '2/2022' '1/2022' '12/2021' '11/2021']\n"
     ]
    }
   ],
   "source": [
    "#Find unique values of the \"flight_date\"\n",
    "print(aviation_data[\"flight_date\"].unique())"
   ]
  },
  {
   "cell_type": "code",
   "execution_count": 6,
   "id": "91b6e002-5709-4767-b917-bdcf6a8a21e1",
   "metadata": {},
   "outputs": [
    {
     "name": "stdout",
     "output_type": "stream",
     "text": [
      "12/2021\n",
      "11/2023\n",
      "11/2023\n",
      "11/2022\n",
      "12/2023\n"
     ]
    }
   ],
   "source": [
    "#Find random number of given flights\n",
    "for flight in random_flights[:5]:\n",
    "        print(flight[\"flight_date\"])"
   ]
  },
  {
   "cell_type": "code",
   "execution_count": null,
   "id": "92b0d4c4-6852-4aa2-85b3-9d6fd81b8217",
   "metadata": {},
   "outputs": [],
   "source": []
  },
  {
   "cell_type": "code",
   "execution_count": 7,
   "id": "f7c217c3-34b5-404f-b5f5-28088cbde8a1",
   "metadata": {},
   "outputs": [],
   "source": [
    "# Create and print Data Frame\n",
    "flight_data_df = pd.DataFrame(formatted_flights)\n",
    "\n",
    "#print(flight_data_df)"
   ]
  },
  {
   "cell_type": "code",
   "execution_count": 8,
   "id": "956ec67c-6cdd-4ddb-8a0e-cc05907ffc17",
   "metadata": {},
   "outputs": [],
   "source": [
    "flight_data_df.to_csv(\"./dataset/flights.csv\", index=True) #, mode='w')\n",
    "\n",
    "flight_data_df = pd.read_csv(\"./dataset/flights.csv\", index_col=0)\n",
    "\n",
    "#flight_data_df.head()"
   ]
  },
  {
   "cell_type": "code",
   "execution_count": null,
   "id": "688900e6-6e93-4883-b31d-382d01ffd36d",
   "metadata": {},
   "outputs": [],
   "source": []
  },
  {
   "cell_type": "markdown",
   "id": "c8eea26c-a3b5-4141-86a6-6b02765c6498",
   "metadata": {},
   "source": [
    "---"
   ]
  },
  {
   "cell_type": "markdown",
   "id": "94b8ea9d-7779-499d-9624-075a46bd8c15",
   "metadata": {},
   "source": [
    "# U.S. Department of Transportation\n",
    "## The information is presented from Federal Aviation Administration website"
   ]
  },
  {
   "cell_type": "markdown",
   "id": "8dca02f4-c8bc-4dd3-bd2b-8ee8feaae4ac",
   "metadata": {},
   "source": [
    "---"
   ]
  },
  {
   "cell_type": "markdown",
   "id": "b327af1c-69c9-41f4-b92e-5a997a80fd8f",
   "metadata": {},
   "source": [
    "# Calculations based on Nov-Dec 2021-2023"
   ]
  },
  {
   "cell_type": "markdown",
   "id": "e1e3b2f2-566a-4fa6-9289-247624f00192",
   "metadata": {},
   "source": [
    "## Import the data from .csv and the coordinates dataset and merge it with the existing dataset. "
   ]
  },
  {
   "cell_type": "code",
   "execution_count": 9,
   "id": "7753618f-4f59-424a-bb59-7106146b76f4",
   "metadata": {},
   "outputs": [],
   "source": [
    "#====Merging=====================================\n",
    "'''\"./dataset/airline_data.csv\"'''\n",
    "#flights_path_aa = \"./dataset/flights_aa.csv\"\n",
    "flights_path = \"./dataset/flights.csv\"\n",
    "airports_path = \"./dataset/airports.csv\"\n",
    "#iata_coords_path = \"iata_coords.csv\"\n",
    "\n",
    "flights_data = pd.read_csv(flights_path, low_memory=False)\n",
    "airports_data = pd.read_csv(airports_path, low_memory=False)\n",
    "\n",
    "#data_merged_df = pd.merge(airports_data, flights_data, on=\"Arrival Airport\")"
   ]
  },
  {
   "cell_type": "markdown",
   "id": "b790f92f-c302-4967-ab02-c7bcefb71687",
   "metadata": {},
   "source": [
    "### Display the number of carriers with the lowest # of Airline Delays Nov-Dec   2021-2023\n",
    "\n",
    "We group the rows in df by carrier and sum the number of delayed arrivals per carrier. We are only interested in the carriers\n",
    " with the smallest number of delayed arrivals. For display purposes,\n",
    " we pass the name parameter in our call to reset_index().\n",
    " data_ads_df   ---> # of smalest airline delays "
   ]
  },
  {
   "cell_type": "code",
   "execution_count": 10,
   "id": "f720ab9d-c5d7-4b11-a310-20255f4e440f",
   "metadata": {},
   "outputs": [
    {
     "data": {
      "text/html": [
       "<div>\n",
       "<style scoped>\n",
       "    .dataframe tbody tr th:only-of-type {\n",
       "        vertical-align: middle;\n",
       "    }\n",
       "\n",
       "    .dataframe tbody tr th {\n",
       "        vertical-align: top;\n",
       "    }\n",
       "\n",
       "    .dataframe thead th {\n",
       "        text-align: right;\n",
       "    }\n",
       "</style>\n",
       "<table border=\"1\" class=\"dataframe\">\n",
       "  <thead>\n",
       "    <tr style=\"text-align: right;\">\n",
       "      <th></th>\n",
       "      <th>Airline Name</th>\n",
       "      <th>num_delays</th>\n",
       "    </tr>\n",
       "  </thead>\n",
       "  <tbody>\n",
       "    <tr>\n",
       "      <th>0</th>\n",
       "      <td>Commutair Aka Champlain Enterprises, Inc.</td>\n",
       "      <td>2.26</td>\n",
       "    </tr>\n",
       "    <tr>\n",
       "      <th>1</th>\n",
       "      <td>GoJet Airlines LLC d/b/a United Express</td>\n",
       "      <td>5.52</td>\n",
       "    </tr>\n",
       "    <tr>\n",
       "      <th>2</th>\n",
       "      <td>Republic Airline</td>\n",
       "      <td>12.79</td>\n",
       "    </tr>\n",
       "    <tr>\n",
       "      <th>3</th>\n",
       "      <td>Hawaiian Airlines Network</td>\n",
       "      <td>16.97</td>\n",
       "    </tr>\n",
       "    <tr>\n",
       "      <th>4</th>\n",
       "      <td>CommuteAir LLC dba CommuteAir</td>\n",
       "      <td>17.49</td>\n",
       "    </tr>\n",
       "  </tbody>\n",
       "</table>\n",
       "</div>"
      ],
      "text/plain": [
       "                                Airline Name  num_delays\n",
       "0  Commutair Aka Champlain Enterprises, Inc.        2.26\n",
       "1    GoJet Airlines LLC d/b/a United Express        5.52\n",
       "2                           Republic Airline       12.79\n",
       "3                  Hawaiian Airlines Network       16.97\n",
       "4              CommuteAir LLC dba CommuteAir       17.49"
      ]
     },
     "execution_count": 10,
     "metadata": {},
     "output_type": "execute_result"
    }
   ],
   "source": [
    "data_ads_df = flight_data_df #pd.read_csv(\"./dataset/flights.csv\", index_col=0)\n",
    "data_ads_df.groupby('Airline Name')['# of Airline Delays'].sum().nsmallest().reset_index(name='num_delays')\n",
    "#flight_data_df.groupby('Airline Name')['# of Weather Delays'].sum().nlargest(50).reset_index(name='num_delays')"
   ]
  },
  {
   "cell_type": "markdown",
   "id": "15d98738-ca24-4c95-9165-bc50e0942277",
   "metadata": {},
   "source": [
    "### Display the number of carriers with the largest # of Airline Delays  Nov-Dec   2021-2023\n",
    "\n",
    "We group the rows in df by carrier and sum the number of delayed arrivals per carrier. We are only interested in the carriers\n",
    " with the largest number of delayed arrivals. For display purposes,\n",
    " we pass the name parameter in our call to reset_index().      data_adl_df   ---> # of largest airline delays "
   ]
  },
  {
   "cell_type": "code",
   "execution_count": 11,
   "id": "98075c88-1da0-47bc-a060-4cb934899a54",
   "metadata": {},
   "outputs": [
    {
     "data": {
      "text/html": [
       "<div>\n",
       "<style scoped>\n",
       "    .dataframe tbody tr th:only-of-type {\n",
       "        vertical-align: middle;\n",
       "    }\n",
       "\n",
       "    .dataframe tbody tr th {\n",
       "        vertical-align: top;\n",
       "    }\n",
       "\n",
       "    .dataframe thead th {\n",
       "        text-align: right;\n",
       "    }\n",
       "</style>\n",
       "<table border=\"1\" class=\"dataframe\">\n",
       "  <thead>\n",
       "    <tr style=\"text-align: right;\">\n",
       "      <th></th>\n",
       "      <th>Airline Name</th>\n",
       "      <th>num_delays</th>\n",
       "    </tr>\n",
       "  </thead>\n",
       "  <tbody>\n",
       "    <tr>\n",
       "      <th>0</th>\n",
       "      <td>Southwest Airlines</td>\n",
       "      <td>1488.50</td>\n",
       "    </tr>\n",
       "    <tr>\n",
       "      <th>1</th>\n",
       "      <td>United Air Lines Network</td>\n",
       "      <td>1055.00</td>\n",
       "    </tr>\n",
       "    <tr>\n",
       "      <th>2</th>\n",
       "      <td>SkyWest Airlines Inc.</td>\n",
       "      <td>380.78</td>\n",
       "    </tr>\n",
       "    <tr>\n",
       "      <th>3</th>\n",
       "      <td>Delta Air Lines Network</td>\n",
       "      <td>347.53</td>\n",
       "    </tr>\n",
       "    <tr>\n",
       "      <th>4</th>\n",
       "      <td>American Airlines Network</td>\n",
       "      <td>304.52</td>\n",
       "    </tr>\n",
       "  </tbody>\n",
       "</table>\n",
       "</div>"
      ],
      "text/plain": [
       "                Airline Name  num_delays\n",
       "0         Southwest Airlines     1488.50\n",
       "1   United Air Lines Network     1055.00\n",
       "2      SkyWest Airlines Inc.      380.78\n",
       "3    Delta Air Lines Network      347.53\n",
       "4  American Airlines Network      304.52"
      ]
     },
     "execution_count": 11,
     "metadata": {},
     "output_type": "execute_result"
    }
   ],
   "source": [
    "data_adl_df = flight_data_df #pd.read_csv(\"./dataset/flights.csv\", index_col=0)\n",
    "# nsmallest(10)   <----change the number\n",
    "data_adl_df.groupby('Airline Name')['# of Airline Delays'].sum().nlargest().reset_index(name='num_delays')"
   ]
  },
  {
   "cell_type": "markdown",
   "id": "51fca5cf-2bce-495e-a832-f3574c4377cd",
   "metadata": {},
   "source": [
    "---"
   ]
  },
  {
   "cell_type": "markdown",
   "id": "488dd8a4-4844-4d0c-a5c9-a8d0b26fb7b2",
   "metadata": {},
   "source": [
    "###   # of Late Aircraft Delays"
   ]
  },
  {
   "cell_type": "code",
   "execution_count": 12,
   "id": "8740d2ba-8988-4a2a-a521-8a91fab2be86",
   "metadata": {},
   "outputs": [],
   "source": [
    "# # Load the CSV file into a DataFrame\n",
    "# df = pd.read_csv('./dataset/flights.csv')  # replace 'your_file.csv' with your actual file name\n",
    "\n",
    "# # Display the first few rows of the DataFrame to understand its structure\n",
    "# #print(df.head())\n",
    "\n",
    "# # Assuming there is a column named 'time_minutes' that contains the time in minutes\n",
    "# # Convert seconds to hours\n",
    "# df['Delay due to Airline in Mins'] = (df['Delay due to Airline in Mins'] / 60).round(2)\n",
    "# #Creat df for output\n",
    "# out_df = pd.DataFrame(df)\n",
    "# flights = out_df"
   ]
  },
  {
   "cell_type": "code",
   "execution_count": 13,
   "id": "690c289c-3f4f-4b60-96be-e9450f087588",
   "metadata": {},
   "outputs": [],
   "source": [
    "# # Assuming you have a dataset named 'flights' with columns 'Airline Name' and 'Delay due to Weather in Mins'\n",
    "# # Replace with your actual dataset and column names\n",
    "\n",
    "# #Load your dataset\n",
    "# #flights = out_df\n",
    "\n",
    "# #Group by airline and calculate average delay\n",
    "# airline_delays = flights.groupby('Airline Name')['Delay due to Airline in Mins'].mean().reset_index()\n",
    "\n",
    "# # Sort by average delay\n",
    "# airline_delays = airline_delays.sort_values(by='Delay due to Airline in Mins', ascending=False)\n",
    "\n",
    "# # Create the bar plot\n",
    "# plt.figure(figsize=(11, 6))\n",
    "# plt.bar(airline_delays['Airline Name'], airline_delays['Delay due to Airline in Mins'])\n",
    "# plt.xlabel('Airline Name')\n",
    "# plt.ylabel('Average Delay (hours)')\n",
    "# plt.title('Average Flight Delays due to Airline in Mins Nov-Dec 2021-2023')\n",
    "# plt.xticks(rotation=90)\n",
    "# plt.tight_layout()\n",
    "# plt.show()\n",
    "# #airline_delays"
   ]
  },
  {
   "cell_type": "code",
   "execution_count": 14,
   "id": "1c99b9a2-e7c6-4344-98a7-0c4f34b2d849",
   "metadata": {},
   "outputs": [
    {
     "data": {
      "image/png": "[encoded data removed]",
      "text/plain": [
       "<Figure size 1100x600 with 1 Axes>"
      ]
     },
     "metadata": {},
     "output_type": "display_data"
    }
   ],
   "source": [
    "# Assuming you have a dataset named 'flights' with columns 'Airline Name' and 'Delay due to Weather in Mins'\n",
    "# Replace with your actual dataset and column names\n",
    "\n",
    "# Load your dataset\n",
    "#flights = out_df\n",
    "df = pd.read_csv('./dataset/flights.csv')\n",
    "#flights = pd.DataFrame(df)\n",
    "# Group by airline and calculate average delay\n",
    "#airline_delays = flights.groupby('Airline Name')['Delay due to Weather in Mins'].mean().reset_index()\n",
    "airline_delays = df.groupby('Airline Name')['# of Late Aircraft Delays'].count().reset_index()\n",
    "\n",
    "# Sort by average delay\n",
    "airline_delays = airline_delays.sort_values(by='# of Late Aircraft Delays', ascending=False)\n",
    "\n",
    "# Create the bar plot\n",
    "plt.figure(figsize=(11, 6))\n",
    "plt.bar(airline_delays['Airline Name'], airline_delays['# of Late Aircraft Delays'])\n",
    "plt.xlabel('Airline Name')\n",
    "plt.ylabel('# of Late Aircraft Delays')\n",
    "plt.title('# of Late Aircraft Delays Nov-Dec 2021-2023')\n",
    "plt.xticks(rotation=90)\n",
    "plt.tight_layout()\n",
    "plt.show()\n",
    "#airline_delays"
   ]
  },
  {
   "cell_type": "code",
   "execution_count": null,
   "id": "73e4097d-61c9-4da7-aeae-9f114b50c41b",
   "metadata": {},
   "outputs": [],
   "source": []
  },
  {
   "cell_type": "markdown",
   "id": "e03d1972-4b47-4aae-b429-9c3260c27e60",
   "metadata": {},
   "source": [
    "### Basic statistical description of airlines\n",
    "### *Calculate    min  max  count\t mean   on the # of Airline Delays  Nov-Dec  2021-2023*"
   ]
  },
  {
   "cell_type": "code",
   "execution_count": 15,
   "id": "ecc65438-4cb9-40df-b0ee-62229b7533b7",
   "metadata": {},
   "outputs": [
    {
     "data": {
      "text/html": [
       "<div>\n",
       "<style scoped>\n",
       "    .dataframe tbody tr th:only-of-type {\n",
       "        vertical-align: middle;\n",
       "    }\n",
       "\n",
       "    .dataframe tbody tr th {\n",
       "        vertical-align: top;\n",
       "    }\n",
       "\n",
       "    .dataframe thead th {\n",
       "        text-align: right;\n",
       "    }\n",
       "</style>\n",
       "<table border=\"1\" class=\"dataframe\">\n",
       "  <thead>\n",
       "    <tr style=\"text-align: right;\">\n",
       "      <th></th>\n",
       "      <th>min</th>\n",
       "      <th>max</th>\n",
       "      <th>count</th>\n",
       "      <th>mean</th>\n",
       "    </tr>\n",
       "    <tr>\n",
       "      <th>Airline Name</th>\n",
       "      <th></th>\n",
       "      <th></th>\n",
       "      <th></th>\n",
       "      <th></th>\n",
       "    </tr>\n",
       "  </thead>\n",
       "  <tbody>\n",
       "    <tr>\n",
       "      <th>Commutair Aka Champlain Enterprises, Inc.</th>\n",
       "      <td>2.26</td>\n",
       "      <td>2.26</td>\n",
       "      <td>1.0</td>\n",
       "      <td>2.0</td>\n",
       "    </tr>\n",
       "    <tr>\n",
       "      <th>Hawaiian Airlines Network</th>\n",
       "      <td>4.94</td>\n",
       "      <td>12.03</td>\n",
       "      <td>2.0</td>\n",
       "      <td>8.0</td>\n",
       "    </tr>\n",
       "    <tr>\n",
       "      <th>GoJet Airlines LLC d/b/a United Express</th>\n",
       "      <td>0.00</td>\n",
       "      <td>3.86</td>\n",
       "      <td>5.0</td>\n",
       "      <td>1.0</td>\n",
       "    </tr>\n",
       "    <tr>\n",
       "      <th>CommuteAir LLC dba CommuteAir</th>\n",
       "      <td>1.00</td>\n",
       "      <td>6.41</td>\n",
       "      <td>5.0</td>\n",
       "      <td>3.0</td>\n",
       "    </tr>\n",
       "    <tr>\n",
       "      <th>JetBlue Airways</th>\n",
       "      <td>1.00</td>\n",
       "      <td>26.89</td>\n",
       "      <td>5.0</td>\n",
       "      <td>8.0</td>\n",
       "    </tr>\n",
       "    <tr>\n",
       "      <th>PSA Airlines Inc.</th>\n",
       "      <td>2.14</td>\n",
       "      <td>10.86</td>\n",
       "      <td>6.0</td>\n",
       "      <td>6.0</td>\n",
       "    </tr>\n",
       "    <tr>\n",
       "      <th>Horizon Air</th>\n",
       "      <td>0.00</td>\n",
       "      <td>28.95</td>\n",
       "      <td>6.0</td>\n",
       "      <td>7.0</td>\n",
       "    </tr>\n",
       "    <tr>\n",
       "      <th>Republic Airline</th>\n",
       "      <td>0.00</td>\n",
       "      <td>5.28</td>\n",
       "      <td>7.0</td>\n",
       "      <td>2.0</td>\n",
       "    </tr>\n",
       "    <tr>\n",
       "      <th>American Airlines Network</th>\n",
       "      <td>2.52</td>\n",
       "      <td>220.35</td>\n",
       "      <td>7.0</td>\n",
       "      <td>44.0</td>\n",
       "    </tr>\n",
       "    <tr>\n",
       "      <th>Mesa Airlines Inc.</th>\n",
       "      <td>0.00</td>\n",
       "      <td>20.09</td>\n",
       "      <td>7.0</td>\n",
       "      <td>6.0</td>\n",
       "    </tr>\n",
       "    <tr>\n",
       "      <th>Spirit Airlines</th>\n",
       "      <td>8.31</td>\n",
       "      <td>52.99</td>\n",
       "      <td>7.0</td>\n",
       "      <td>19.0</td>\n",
       "    </tr>\n",
       "    <tr>\n",
       "      <th>United Air Lines Network</th>\n",
       "      <td>1.82</td>\n",
       "      <td>521.33</td>\n",
       "      <td>9.0</td>\n",
       "      <td>117.0</td>\n",
       "    </tr>\n",
       "    <tr>\n",
       "      <th>Frontier Airlines</th>\n",
       "      <td>0.00</td>\n",
       "      <td>56.86</td>\n",
       "      <td>9.0</td>\n",
       "      <td>16.0</td>\n",
       "    </tr>\n",
       "    <tr>\n",
       "      <th>Endeavor Air Inc.</th>\n",
       "      <td>0.00</td>\n",
       "      <td>6.35</td>\n",
       "      <td>11.0</td>\n",
       "      <td>3.0</td>\n",
       "    </tr>\n",
       "    <tr>\n",
       "      <th>Air Wisconsin Airlines Corp</th>\n",
       "      <td>0.00</td>\n",
       "      <td>21.17</td>\n",
       "      <td>11.0</td>\n",
       "      <td>6.0</td>\n",
       "    </tr>\n",
       "    <tr>\n",
       "      <th>Allegiant Air</th>\n",
       "      <td>0.04</td>\n",
       "      <td>9.82</td>\n",
       "      <td>12.0</td>\n",
       "      <td>3.0</td>\n",
       "    </tr>\n",
       "    <tr>\n",
       "      <th>Piedmont Airlines</th>\n",
       "      <td>0.00</td>\n",
       "      <td>3.45</td>\n",
       "      <td>12.0</td>\n",
       "      <td>2.0</td>\n",
       "    </tr>\n",
       "    <tr>\n",
       "      <th>Envoy Air</th>\n",
       "      <td>0.21</td>\n",
       "      <td>12.74</td>\n",
       "      <td>13.0</td>\n",
       "      <td>4.0</td>\n",
       "    </tr>\n",
       "    <tr>\n",
       "      <th>Alaska Airlines Network</th>\n",
       "      <td>1.06</td>\n",
       "      <td>27.77</td>\n",
       "      <td>13.0</td>\n",
       "      <td>6.0</td>\n",
       "    </tr>\n",
       "    <tr>\n",
       "      <th>Southwest Airlines</th>\n",
       "      <td>17.44</td>\n",
       "      <td>360.54</td>\n",
       "      <td>16.0</td>\n",
       "      <td>93.0</td>\n",
       "    </tr>\n",
       "    <tr>\n",
       "      <th>Delta Air Lines Network</th>\n",
       "      <td>1.60</td>\n",
       "      <td>83.58</td>\n",
       "      <td>17.0</td>\n",
       "      <td>20.0</td>\n",
       "    </tr>\n",
       "    <tr>\n",
       "      <th>SkyWest Airlines Inc.</th>\n",
       "      <td>1.94</td>\n",
       "      <td>147.70</td>\n",
       "      <td>19.0</td>\n",
       "      <td>20.0</td>\n",
       "    </tr>\n",
       "  </tbody>\n",
       "</table>\n",
       "</div>"
      ],
      "text/plain": [
       "                                             min     max  count   mean\n",
       "Airline Name                                                          \n",
       "Commutair Aka Champlain Enterprises, Inc.   2.26    2.26    1.0    2.0\n",
       "Hawaiian Airlines Network                   4.94   12.03    2.0    8.0\n",
       "GoJet Airlines LLC d/b/a United Express     0.00    3.86    5.0    1.0\n",
       "CommuteAir LLC dba CommuteAir               1.00    6.41    5.0    3.0\n",
       "JetBlue Airways                             1.00   26.89    5.0    8.0\n",
       "PSA Airlines Inc.                           2.14   10.86    6.0    6.0\n",
       "Horizon Air                                 0.00   28.95    6.0    7.0\n",
       "Republic Airline                            0.00    5.28    7.0    2.0\n",
       "American Airlines Network                   2.52  220.35    7.0   44.0\n",
       "Mesa Airlines Inc.                          0.00   20.09    7.0    6.0\n",
       "Spirit Airlines                             8.31   52.99    7.0   19.0\n",
       "United Air Lines Network                    1.82  521.33    9.0  117.0\n",
       "Frontier Airlines                           0.00   56.86    9.0   16.0\n",
       "Endeavor Air Inc.                           0.00    6.35   11.0    3.0\n",
       "Air Wisconsin Airlines Corp                 0.00   21.17   11.0    6.0\n",
       "Allegiant Air                               0.04    9.82   12.0    3.0\n",
       "Piedmont Airlines                           0.00    3.45   12.0    2.0\n",
       "Envoy Air                                   0.21   12.74   13.0    4.0\n",
       "Alaska Airlines Network                     1.06   27.77   13.0    6.0\n",
       "Southwest Airlines                         17.44  360.54   16.0   93.0\n",
       "Delta Air Lines Network                     1.60   83.58   17.0   20.0\n",
       "SkyWest Airlines Inc.                       1.94  147.70   19.0   20.0"
      ]
     },
     "execution_count": 15,
     "metadata": {},
     "output_type": "execute_result"
    }
   ],
   "source": [
    "#__________________________________________________________________\n",
    "# function that extract statistical parameters from a grouby objet:\n",
    "def get_stats(group):\n",
    "    return {'min': group.min(), 'max': group.max(),\n",
    "            'count': group.count(), 'mean': group.mean().round()}\n",
    "#_______________________________________________________________\n",
    "# Creation of a dataframe with statitical infos on each airline:\n",
    "global_stats = flight_data_df['# of Airline Delays'].groupby(flight_data_df['Airline Name']).apply(get_stats).unstack()\n",
    "global_stats = global_stats.sort_values('count')\n",
    "global_stats"
   ]
  },
  {
   "cell_type": "code",
   "execution_count": null,
   "id": "71ad692c-e619-4565-b46d-3138fcc5bc20",
   "metadata": {},
   "outputs": [],
   "source": []
  }
 ],
 "metadata": {
  "kernelspec": {
   "display_name": "Python 3 (ipykernel)",
   "language": "python",
   "name": "python3"
  },
  "language_info": {
   "codemirror_mode": {
    "name": "ipython",
    "version": 3
   },
   "file_extension": ".py",
   "mimetype": "text/x-python",
   "name": "python",
   "nbconvert_exporter": "python",
   "pygments_lexer": "ipython3",
   "version": "3.12.4"
  }
 },
 "nbformat": 4,
 "nbformat_minor": 5
}
